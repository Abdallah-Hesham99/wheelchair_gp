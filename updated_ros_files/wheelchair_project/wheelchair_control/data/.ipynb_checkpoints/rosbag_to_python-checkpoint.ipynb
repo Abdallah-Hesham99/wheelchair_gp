{
 "cells": [
  {
   "cell_type": "code",
   "execution_count": 6,
   "id": "wanted-reason",
   "metadata": {},
   "outputs": [],
   "source": [
    "import numpy as np \n",
    "import rosbag\n",
    "import yaml\n",
    "import os"
   ]
  },
  {
   "cell_type": "code",
   "execution_count": 62,
   "id": "practical-residence",
   "metadata": {},
   "outputs": [],
   "source": [
    "bag_name = '2022-05-28-20-15-19.bag.active'"
   ]
  },
  {
   "cell_type": "code",
   "execution_count": 63,
   "id": "mediterranean-opinion",
   "metadata": {},
   "outputs": [],
   "source": [
    "file = rosbag.Bag(bag_name,'r')"
   ]
  },
  {
   "cell_type": "code",
   "execution_count": 64,
   "id": "bulgarian-breakfast",
   "metadata": {},
   "outputs": [
    {
     "name": "stderr",
     "output_type": "stream",
     "text": [
      "<ipython-input-64-2e38aa3f561c>:1: YAMLLoadWarning: calling yaml.load() without Loader=... is deprecated, as the default Loader is unsafe. Please read https://msg.pyyaml.org/load for full details.\n",
      "  info_dict = yaml.load(rosbag.Bag(bag_name, 'r')._get_yaml_info())\n"
     ]
    }
   ],
   "source": [
    "info_dict = yaml.load(rosbag.Bag(bag_name, 'r')._get_yaml_info())"
   ]
  },
  {
   "cell_type": "code",
   "execution_count": 65,
   "id": "liable-frank",
   "metadata": {},
   "outputs": [
    {
     "data": {
      "text/plain": [
       "{'path': '2022-05-28-20-15-19.bag.active',\n",
       " 'version': 2.0,\n",
       " 'duration': 642.84425,\n",
       " 'start': 1653761719.936152,\n",
       " 'end': 1653762362.780402,\n",
       " 'size': 24799438,\n",
       " 'messages': 32142,\n",
       " 'indexed': True,\n",
       " 'compression': 'none',\n",
       " 'types': [{'type': 'nav_msgs/Odometry',\n",
       "   'md5': 'cd5e73d190d741a2f92e81eda573aca7'}],\n",
       " 'topics': [{'topic': '/odom',\n",
       "   'type': 'nav_msgs/Odometry',\n",
       "   'messages': 32142,\n",
       "   'frequency': 63.5549}]}"
      ]
     },
     "execution_count": 65,
     "metadata": {},
     "output_type": "execute_result"
    }
   ],
   "source": [
    "info_dict"
   ]
  },
  {
   "cell_type": "code",
   "execution_count": 66,
   "id": "reasonable-oliver",
   "metadata": {},
   "outputs": [],
   "source": [
    "messages = file.read_messages()"
   ]
  },
  {
   "cell_type": "code",
   "execution_count": 67,
   "id": "operating-johnston",
   "metadata": {},
   "outputs": [],
   "source": [
    "n = file.get_message_count()"
   ]
  },
  {
   "cell_type": "code",
   "execution_count": 68,
   "id": "proud-antique",
   "metadata": {},
   "outputs": [
    {
     "data": {
      "text/plain": [
       "32142"
      ]
     },
     "execution_count": 68,
     "metadata": {},
     "output_type": "execute_result"
    }
   ],
   "source": [
    "n"
   ]
  },
  {
   "cell_type": "code",
   "execution_count": 69,
   "id": "vertical-account",
   "metadata": {},
   "outputs": [],
   "source": [
    "l = []"
   ]
  },
  {
   "cell_type": "code",
   "execution_count": 70,
   "id": "cross-ceramic",
   "metadata": {},
   "outputs": [],
   "source": [
    "for i in range(n):\n",
    "    topic,msg,t = messages.send(None)\n",
    "    l.append(msg)\n",
    "    "
   ]
  },
  {
   "cell_type": "code",
   "execution_count": 71,
   "id": "present-forge",
   "metadata": {},
   "outputs": [
    {
     "data": {
      "text/plain": [
       "header: \n",
       "  seq: 37972\n",
       "  stamp: \n",
       "    secs: 1653762362\n",
       "    nsecs: 755934979\n",
       "  frame_id: \"odom\"\n",
       "child_frame_id: \"base_link\"\n",
       "pose: \n",
       "  pose: \n",
       "    position: \n",
       "      x: 5.035531886762222\n",
       "      y: -4.980469256614714\n",
       "      z: 0.0\n",
       "    orientation: \n",
       "      x: -0.0\n",
       "      y: 0.0\n",
       "      z: 0.9991893787122951\n",
       "      w: -0.04025649597937885\n",
       "  covariance: [0.0, 0.0, 0.0, 0.0, 0.0, 0.0, 0.0, 0.0, 0.0, 0.0, 0.0, 0.0, 0.0, 0.0, 0.0, 0.0, 0.0, 0.0, 0.0, 0.0, 0.0, 0.0, 0.0, 0.0, 0.0, 0.0, 0.0, 0.0, 0.0, 0.0, 0.0, 0.0, 0.0, 0.0, 0.0, 0.0]\n",
       "twist: \n",
       "  twist: \n",
       "    linear: \n",
       "      x: 0.0010984896150512456\n",
       "      y: 8.873838401439669e-05\n",
       "      z: 0.0\n",
       "    angular: \n",
       "      x: 0.0\n",
       "      y: 0.0\n",
       "      z: -0.0036133377920105126\n",
       "  covariance: [0.0, 0.0, 0.0, 0.0, 0.0, 0.0, 0.0, 0.0, 0.0, 0.0, 0.0, 0.0, 0.0, 0.0, 0.0, 0.0, 0.0, 0.0, 0.0, 0.0, 0.0, 0.0, 0.0, 0.0, 0.0, 0.0, 0.0, 0.0, 0.0, 0.0, 0.0, 0.0, 0.0, 0.0, 0.0, 0.0]"
      ]
     },
     "execution_count": 71,
     "metadata": {},
     "output_type": "execute_result"
    }
   ],
   "source": [
    "msg"
   ]
  },
  {
   "cell_type": "code",
   "execution_count": 35,
   "id": "accredited-weekly",
   "metadata": {},
   "outputs": [
    {
     "data": {
      "text/plain": [
       "<bound method _nav_msgs__Odometry.serialize_numpy of header: \n",
       "  seq: 90985\n",
       "  stamp: \n",
       "    secs: 1654379491\n",
       "    nsecs: 955372821\n",
       "  frame_id: \"odom\"\n",
       "child_frame_id: \"base_link\"\n",
       "pose: \n",
       "  pose: \n",
       "    position: \n",
       "      x: 25.442381336644598\n",
       "      y: 5.05103496815624\n",
       "      z: 0.0\n",
       "    orientation: \n",
       "      x: 0.0\n",
       "      y: 0.0\n",
       "      z: -0.12061252652707818\n",
       "      w: 0.992699661753118\n",
       "  covariance: [0.0, 0.0, 0.0, 0.0, 0.0, 0.0, 0.0, 0.0, 0.0, 0.0, 0.0, 0.0, 0.0, 0.0, 0.0, 0.0, 0.0, 0.0, 0.0, 0.0, 0.0, 0.0, 0.0, 0.0, 0.0, 0.0, 0.0, 0.0, 0.0, 0.0, 0.0, 0.0, 0.0, 0.0, 0.0, 0.0]\n",
       "twist: \n",
       "  twist: \n",
       "    linear: \n",
       "      x: 0.052625880257875665\n",
       "      y: -0.01296213457060531\n",
       "      z: 0.0\n",
       "    angular: \n",
       "      x: 0.0\n",
       "      y: 0.0\n",
       "      z: -0.015715026982995633\n",
       "  covariance: [0.0, 0.0, 0.0, 0.0, 0.0, 0.0, 0.0, 0.0, 0.0, 0.0, 0.0, 0.0, 0.0, 0.0, 0.0, 0.0, 0.0, 0.0, 0.0, 0.0, 0.0, 0.0, 0.0, 0.0, 0.0, 0.0, 0.0, 0.0, 0.0, 0.0, 0.0, 0.0, 0.0, 0.0, 0.0, 0.0]>"
      ]
     },
     "execution_count": 35,
     "metadata": {},
     "output_type": "execute_result"
    }
   ],
   "source": [
    "msg.twist."
   ]
  },
  {
   "cell_type": "code",
   "execution_count": 72,
   "id": "middle-luxembourg",
   "metadata": {},
   "outputs": [],
   "source": [
    "a=np.array(None)"
   ]
  },
  {
   "cell_type": "code",
   "execution_count": 73,
   "id": "genetic-quarterly",
   "metadata": {},
   "outputs": [
    {
     "data": {
      "text/plain": [
       "()"
      ]
     },
     "execution_count": 73,
     "metadata": {},
     "output_type": "execute_result"
    }
   ],
   "source": [
    "a.shape"
   ]
  },
  {
   "cell_type": "code",
   "execution_count": 74,
   "id": "optical-missile",
   "metadata": {},
   "outputs": [],
   "source": [
    "for i in range(len(l)):\n",
    "    a=np.append(a,[l[i].pose.pose.position.x,l[i].pose.pose.position.y,l[i].pose.pose.orientation.z,\\\n",
    "              l[i].twist.twist.linear.x,l[i].twist.twist.linear.y,l[i].twist.twist.angular.z])\n",
    "    \n",
    "    \n",
    "    \n",
    "    \n",
    "    \n",
    "    \n",
    "    "
   ]
  },
  {
   "cell_type": "code",
   "execution_count": 75,
   "id": "competitive-bailey",
   "metadata": {},
   "outputs": [
    {
     "data": {
      "text/plain": [
       "(192853,)"
      ]
     },
     "execution_count": 75,
     "metadata": {},
     "output_type": "execute_result"
    }
   ],
   "source": [
    "a.shape"
   ]
  },
  {
   "cell_type": "code",
   "execution_count": 76,
   "id": "surprising-bedroom",
   "metadata": {},
   "outputs": [
    {
     "data": {
      "text/plain": [
       "192853"
      ]
     },
     "execution_count": 76,
     "metadata": {},
     "output_type": "execute_result"
    }
   ],
   "source": [
    "len(a)"
   ]
  },
  {
   "cell_type": "code",
   "execution_count": 77,
   "id": "lasting-press",
   "metadata": {},
   "outputs": [
    {
     "data": {
      "text/plain": [
       "array([None, 0.0002134218592664841, 7.031973031990538e-08, ...,\n",
       "       0.0010984896150512456, 8.873838401439669e-05,\n",
       "       -0.0036133377920105126], dtype=object)"
      ]
     },
     "execution_count": 77,
     "metadata": {},
     "output_type": "execute_result"
    }
   ],
   "source": [
    "a"
   ]
  },
  {
   "cell_type": "code",
   "execution_count": 78,
   "id": "republican-panic",
   "metadata": {},
   "outputs": [],
   "source": [
    "a = a[1:]"
   ]
  },
  {
   "cell_type": "code",
   "execution_count": 79,
   "id": "aware-engineer",
   "metadata": {},
   "outputs": [
    {
     "data": {
      "text/plain": [
       "array([0.0002134218592664841, 7.031973031990538e-08,\n",
       "       0.0003498719190915165, ..., 0.0010984896150512456,\n",
       "       8.873838401439669e-05, -0.0036133377920105126], dtype=object)"
      ]
     },
     "execution_count": 79,
     "metadata": {},
     "output_type": "execute_result"
    }
   ],
   "source": [
    "a"
   ]
  },
  {
   "cell_type": "code",
   "execution_count": 80,
   "id": "waiting-sally",
   "metadata": {},
   "outputs": [],
   "source": [
    "a = a.reshape(32142,6)"
   ]
  },
  {
   "cell_type": "code",
   "execution_count": 81,
   "id": "suburban-clark",
   "metadata": {},
   "outputs": [
    {
     "data": {
      "text/plain": [
       "array([[0.0002134218592664841, 7.031973031990538e-08,\n",
       "        0.0003498719190915165, 0.0, 0.0, 0.0],\n",
       "       [0.0002134218592664841, 7.031973031990538e-08,\n",
       "        0.0003498719190915165, 0.0, 0.0, 0.0],\n",
       "       [0.0002134218592664841, 7.031973031990538e-08,\n",
       "        0.0003498719190915165, 0.0, 0.0, 0.0],\n",
       "       ...,\n",
       "       [5.035487874016173, -4.980472813663597, 0.9991864620356078,\n",
       "        0.0011017021716359771, 8.915844254135345e-05,\n",
       "        -0.0036239474971529644],\n",
       "       [5.035509880324826, -4.980471034342664, 0.9991879210284096,\n",
       "        0.001098744713577654, 8.883904608250532e-05,\n",
       "        -0.003614198049085486],\n",
       "       [5.035531886762222, -4.980469256614714, 0.9991893787122951,\n",
       "        0.0010984896150512456, 8.873838401439669e-05,\n",
       "        -0.0036133377920105126]], dtype=object)"
      ]
     },
     "execution_count": 81,
     "metadata": {},
     "output_type": "execute_result"
    }
   ],
   "source": [
    "a"
   ]
  },
  {
   "cell_type": "code",
   "execution_count": 82,
   "id": "stupid-robin",
   "metadata": {},
   "outputs": [],
   "source": [
    "np.save(\"./bag_to_numpy/may_28_data_xyz,vxvyw\",a)"
   ]
  },
  {
   "cell_type": "code",
   "execution_count": null,
   "id": "running-appreciation",
   "metadata": {},
   "outputs": [],
   "source": []
  }
 ],
 "metadata": {
  "kernelspec": {
   "display_name": "Python 3",
   "language": "python",
   "name": "python3"
  },
  "language_info": {
   "codemirror_mode": {
    "name": "ipython",
    "version": 3
   },
   "file_extension": ".py",
   "mimetype": "text/x-python",
   "name": "python",
   "nbconvert_exporter": "python",
   "pygments_lexer": "ipython3",
   "version": "3.8.10"
  }
 },
 "nbformat": 4,
 "nbformat_minor": 5
}
